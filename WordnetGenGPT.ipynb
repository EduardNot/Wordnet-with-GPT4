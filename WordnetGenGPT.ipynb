{
 "cells": [
  {
   "cell_type": "code",
   "execution_count": 143,
   "metadata": {},
   "outputs": [
    {
     "name": "stderr",
     "output_type": "stream",
     "text": [
      "[nltk_data] Downloading package wordnet to\n",
      "[nltk_data]     C:\\Users\\rudi\\AppData\\Roaming\\nltk_data...\n",
      "[nltk_data]   Package wordnet is already up-to-date!\n"
     ]
    },
    {
     "data": {
      "text/plain": [
       "True"
      ]
     },
     "execution_count": 143,
     "metadata": {},
     "output_type": "execute_result"
    }
   ],
   "source": [
    "import openai\n",
    "import time\n",
    "from dotenv import load_dotenv\n",
    "import os\n",
    "import xml.etree.ElementTree as ET\n",
    "import nltk\n",
    "from nltk.corpus import wordnet as wn\n",
    "nltk.download('wordnet')"
   ]
  },
  {
   "cell_type": "code",
   "execution_count": 144,
   "metadata": {},
   "outputs": [],
   "source": [
    "load_dotenv()\n",
    "\n",
    "openai.api_type = os.getenv(\"API_TYPE\")\n",
    "openai.api_key = os.getenv(\"API_KEY\")\n",
    "openai.api_base = os.getenv(\"API_BASE\")\n",
    "openai.api_version = os.getenv(\"API_VERSION\")"
   ]
  },
  {
   "cell_type": "code",
   "execution_count": 129,
   "metadata": {},
   "outputs": [],
   "source": [
    "WORD_ID = 1\n",
    "\n",
    "INIT_PROMPT = \"\"\"You are a WordNet generator. At first, you will be given a word and you have to give all defenitions of the word and give an example.\n",
    "The outpus contain only XML formatted answer. The XML must look like this:\n",
    "<definitions>\n",
    "    <definition>\n",
    "        <word>[Given word]</word>\n",
    "        <type>[adjectives/adverbs/conjunctions/determiners/nouns/prepositions/pronouns/verbs]</type>\n",
    "        <meaning>[Meaning of the word]</meaning>\n",
    "        <example>[An example sentece with given word]</example>\n",
    "    </definition>\n",
    "</definitions>\"\"\"\n",
    "\n",
    "WORDNET_PROMPT = \"\"\"Now you will be given the following fields: id, word, type, meaning and example. \n",
    "You will have to give WordNet for a given word. Currently, give only synonyms. \n",
    "The output contains only XML. Here is an example of what XML must look like:\n",
    "<synsets>\n",
    "    <synset id=[given id] word=[given word] type=[type]>\n",
    "        <meaning>[given meaning]</meaning>\n",
    "        <example>[given example]</example>\n",
    "        <synonyms>\n",
    "            <synonym>[synonym of word 1]</synonym>\n",
    "            <synonym>[synonym of word 2]</synonym>\n",
    "            <synonym>[synonym of word 3]</synonym>\n",
    "            ...\n",
    "        </synonyms>\n",
    "    </synset>\n",
    "</synsets>\n",
    "The XML is just an example, there can be more or less synonyms for each word.\n",
    "\"\"\""
   ]
  },
  {
   "cell_type": "code",
   "execution_count": 130,
   "metadata": {},
   "outputs": [],
   "source": [
    "def gen_from_prompt(msg, tags):\n",
    "    for _ in range(3):\n",
    "        try:\n",
    "            completion = openai.ChatCompletion.create(deployment_id=\"gec\", model=\"gpt-4-1106-preview\", messages=msg)\n",
    "            answer = completion[\"choices\"][0][\"message\"][\"content\"]\n",
    "            # print(completion)\n",
    "            if check_XML_validity(answer) and check_tags_XML(answer, tags):\n",
    "                break\n",
    "\n",
    "        except openai.error.ServiceUnavailableError:\n",
    "            pass\n",
    "            # Happens sometimes, just asking again usually helps\n",
    "\n",
    "        except openai.error.APIError:\n",
    "            pass\n",
    "            # Haven't looked, why does it happen, asking again helps usually\n",
    "        except KeyError as e:\n",
    "            if completion[\"choices\"][0][\"finish_reason\"] == \"content_filter\":\n",
    "                pass\n",
    "                # Some filter, happens even when nothing is wrong with the input, asking again might help\n",
    "\n",
    "        except openai.error.InvalidRequestError:\n",
    "            pass\n",
    "            # Aslo something related to input text\n",
    "\n",
    "        except openai.error.RateLimitError:\n",
    "            time.sleep(3)\n",
    "            # The error message said, that it's better to wait three seconds and try again\n",
    "\n",
    "    return completion[\"choices\"][0][\"message\"]\n",
    "\n",
    "def check_XML_validity(xml_str):\n",
    "    try:\n",
    "        ET.fromstring(xml_str)\n",
    "        return True\n",
    "    except ET.ParseError:\n",
    "        return \n",
    "    \n",
    "def check_tags_XML(xml_str, tags):\n",
    "    # tags = ['word', 'type', 'meaning', 'example']\n",
    "    for k, v in tags.items():\n",
    "        for elem in ET.fromstring(xml_str).findall(k):\n",
    "            for tag in v:\n",
    "                if elem.find(tag) is None:\n",
    "                    return False\n",
    "    return True\n"
   ]
  },
  {
   "cell_type": "code",
   "execution_count": 140,
   "metadata": {},
   "outputs": [],
   "source": [
    "def main(prompt=\"crane\"):\n",
    "    global WORD_ID\n",
    "\n",
    "    messages = [\n",
    "                {\"role\": \"system\", \"content\":  INIT_PROMPT},\n",
    "                {\"role\": \"user\", \"content\": prompt},\n",
    "            ]\n",
    "    \n",
    "    answer = gen_from_prompt(messages, {'defenitions' : ['word', 'type', 'meaning', 'example']})\n",
    "    \n",
    "    messages.append(dict(answer))\n",
    "    \n",
    "    messages.append({\"role\": \"system\", \"content\": WORDNET_PROMPT})\n",
    "    # print(answer['content'])\n",
    "    with open(\"output.xml\", \"w\") as fp:\n",
    "        for elem in ET.fromstring(answer['content']).findall('definition'):\n",
    "            print(elem)\n",
    "            temp_list = messages.copy()\n",
    "            prompt = f\"\"\"ID: {WORD_ID},\n",
    "            Word: {elem.find(\"word\").text},\n",
    "            Type: {elem.find(\"type\").text},\n",
    "            Meaning: {elem.find(\"meaning\").text},\n",
    "            Example: {elem.find(\"example\").text}\"\"\"\n",
    "            temp_list.append({\"role\": \"user\", \"content\": prompt})\n",
    "            answer = gen_from_prompt(temp_list, {'synsets' :['synset', 'meaning', 'example', 'synonyms']})\n",
    "            fp.write(answer[\"content\"] + \"\\n\")\n",
    "            WORD_ID += 1"
   ]
  },
  {
   "cell_type": "code",
   "execution_count": 141,
   "metadata": {},
   "outputs": [
    {
     "name": "stdout",
     "output_type": "stream",
     "text": [
      "<Element 'definition' at 0x0000014B9C3385E0>\n",
      "<Element 'definition' at 0x0000014B9C338400>\n",
      "<Element 'definition' at 0x0000014B9C33A110>\n"
     ]
    }
   ],
   "source": [
    "main()"
   ]
  },
  {
   "cell_type": "code",
   "execution_count": 109,
   "metadata": {},
   "outputs": [
    {
     "data": {
      "text/plain": [
       "[Synset('crane.n.01'),\n",
       " Synset('crane.n.02'),\n",
       " Synset('grus.n.01'),\n",
       " Synset('crane.n.04'),\n",
       " Synset('crane.n.05'),\n",
       " Synset('crane.v.01')]"
      ]
     },
     "execution_count": 109,
     "metadata": {},
     "output_type": "execute_result"
    }
   ],
   "source": [
    "wn.synsets('crane')"
   ]
  },
  {
   "cell_type": "code",
   "execution_count": 124,
   "metadata": {},
   "outputs": [
    {
     "name": "stdout",
     "output_type": "stream",
     "text": [
      "0\n",
      "Synset('crane.n.01')\n",
      "United States writer (1871-1900)\n",
      "['Crane', 'Stephen_Crane']\n",
      "1\n",
      "Synset('crane.n.02')\n",
      "United States poet (1899-1932)\n",
      "['Crane', 'Hart_Crane', 'Harold_Hart_Crane']\n",
      "2\n",
      "Synset('grus.n.01')\n",
      "a small constellation in the southern hemisphere near Phoenix\n",
      "['Grus', 'Crane']\n",
      "3\n",
      "Synset('crane.n.04')\n",
      "lifts and moves heavy objects; lifting tackle is suspended from a pivoted boom that rotates around a vertical axis\n",
      "['crane']\n",
      "4\n",
      "Synset('crane.n.05')\n",
      "large long-necked wading bird of marshes and plains in many parts of the world\n",
      "['crane']\n",
      "5\n",
      "Synset('crane.v.01')\n",
      "stretch (the neck) so as to see better\n",
      "['crane', 'stretch_out']\n"
     ]
    }
   ],
   "source": [
    "for i, s in enumerate(wn.synsets('crane')):\n",
    "    print(i)\n",
    "    print(s)\n",
    "    print(s.definition())\n",
    "    print(s.lemma_names())"
   ]
  },
  {
   "cell_type": "code",
   "execution_count": 112,
   "metadata": {},
   "outputs": [
    {
     "data": {
      "text/plain": [
       "[['Crane', 'Stephen_Crane'],\n",
       " ['Crane', 'Harold_Hart_Crane', 'Hart_Crane'],\n",
       " ['Crane', 'Grus'],\n",
       " [],\n",
       " [],\n",
       " ['stretch_out']]"
      ]
     },
     "execution_count": 112,
     "metadata": {},
     "output_type": "execute_result"
    }
   ],
   "source": [
    "wn.synonyms('crane')"
   ]
  }
 ],
 "metadata": {
  "kernelspec": {
   "display_name": "Python 3",
   "language": "python",
   "name": "python3"
  },
  "language_info": {
   "codemirror_mode": {
    "name": "ipython",
    "version": 3
   },
   "file_extension": ".py",
   "mimetype": "text/x-python",
   "name": "python",
   "nbconvert_exporter": "python",
   "pygments_lexer": "ipython3",
   "version": "3.11.4"
  }
 },
 "nbformat": 4,
 "nbformat_minor": 2
}
